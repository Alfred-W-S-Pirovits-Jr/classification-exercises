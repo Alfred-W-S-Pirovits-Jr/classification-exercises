{
 "cells": [
  {
   "cell_type": "code",
   "execution_count": 11,
   "id": "b29f5085",
   "metadata": {},
   "outputs": [],
   "source": [
    "import pandas as pd\n",
    "from sklearn.metrics import confusion_matrix"
   ]
  },
  {
   "cell_type": "markdown",
   "id": "b4176695",
   "metadata": {},
   "source": [
    "1.  Create a new file named model_evaluation.py or model_evaluation.ipynb for these exercises."
   ]
  },
  {
   "cell_type": "markdown",
   "id": "b32908af",
   "metadata": {},
   "source": [
    "2.  Given the following confusion matrix, evaluate (by hand) the model's performance.\n",
    "\n",
    "|               | pred dog   | pred cat   |\n",
    "|:------------  |-----------:|-----------:|\n",
    "| actual dog    |         46 |         7  |\n",
    "| actual cat    |         13 |         34 |"
   ]
  },
  {
   "cell_type": "markdown",
   "id": "bff5880f",
   "metadata": {},
   "source": [
    "### Accuracy = $\\frac{TP + TN}{TP +TN +FP + FN}$ = $\\frac{46 + 34}{46 + 34 + 13 + 7}$ = $\\frac{4}{5}$ \n",
    "### Precision = $\\frac{TP}{TP + FP}$ = $\\frac{46}{46 + 13}$ = $\\frac{46}{59}$\n",
    "### Recall = $\\frac{TP}{TP + FN}$ = $\\frac{46}{46 + 7}$ = $\\frac{46}{55}$\n",
    "### F1 = $\\frac{1}{2*(\\frac{1}{Precision}+\\frac{1}{Recall})}$ = $\\frac{2 * Precision * Recall}{Precision + Recall}$ = $\\frac{2* \\frac{46}{59} * \\frac{46}{55}}{\\frac{46}{59} + \\frac{46}{55}}$  "
   ]
  },
  {
   "cell_type": "markdown",
   "id": "0e07d0ba",
   "metadata": {},
   "source": [
    "In the context of this problem, what is a false positive?"
   ]
  },
  {
   "cell_type": "markdown",
   "id": "60c6fb77",
   "metadata": {},
   "source": [
    "### predicting dog for an actual cat"
   ]
  },
  {
   "cell_type": "markdown",
   "id": "e78d68ef",
   "metadata": {},
   "source": [
    "In the context of this problem, what is a false negative?"
   ]
  },
  {
   "cell_type": "markdown",
   "id": "4444efb3",
   "metadata": {},
   "source": [
    "### predicting cat for an actual dog"
   ]
  },
  {
   "cell_type": "markdown",
   "id": "fd54d6a2",
   "metadata": {},
   "source": [
    "How would you describe this model?"
   ]
  },
  {
   "cell_type": "markdown",
   "id": "02f55aca",
   "metadata": {},
   "source": [
    "Its accurate\n",
    "Its precise\n",
    "Its got good recal"
   ]
  },
  {
   "cell_type": "markdown",
   "id": "92fd264f",
   "metadata": {},
   "source": [
    "3.  You are working as a datascientist working for Codeup Cody Creator (C3 for short), a rubber-duck manufacturing plant.\n",
    "Unfortunately, some of the rubber ducks that are produced will have defects. Your team has built several models that try to predict those defects, and the data from their predictions can be found here.\n",
    "Use the predictions dataset and pandas to help answer the following questions:"
   ]
  },
  {
   "cell_type": "code",
   "execution_count": 7,
   "id": "f2999756",
   "metadata": {},
   "outputs": [
    {
     "data": {
      "text/html": [
       "<div>\n",
       "<style scoped>\n",
       "    .dataframe tbody tr th:only-of-type {\n",
       "        vertical-align: middle;\n",
       "    }\n",
       "\n",
       "    .dataframe tbody tr th {\n",
       "        vertical-align: top;\n",
       "    }\n",
       "\n",
       "    .dataframe thead th {\n",
       "        text-align: right;\n",
       "    }\n",
       "</style>\n",
       "<table border=\"1\" class=\"dataframe\">\n",
       "  <thead>\n",
       "    <tr style=\"text-align: right;\">\n",
       "      <th></th>\n",
       "      <th>actual</th>\n",
       "      <th>model1</th>\n",
       "      <th>model2</th>\n",
       "      <th>model3</th>\n",
       "    </tr>\n",
       "  </thead>\n",
       "  <tbody>\n",
       "    <tr>\n",
       "      <th>0</th>\n",
       "      <td>No Defect</td>\n",
       "      <td>No Defect</td>\n",
       "      <td>Defect</td>\n",
       "      <td>No Defect</td>\n",
       "    </tr>\n",
       "    <tr>\n",
       "      <th>1</th>\n",
       "      <td>No Defect</td>\n",
       "      <td>No Defect</td>\n",
       "      <td>Defect</td>\n",
       "      <td>Defect</td>\n",
       "    </tr>\n",
       "    <tr>\n",
       "      <th>2</th>\n",
       "      <td>No Defect</td>\n",
       "      <td>No Defect</td>\n",
       "      <td>Defect</td>\n",
       "      <td>No Defect</td>\n",
       "    </tr>\n",
       "    <tr>\n",
       "      <th>3</th>\n",
       "      <td>No Defect</td>\n",
       "      <td>Defect</td>\n",
       "      <td>Defect</td>\n",
       "      <td>Defect</td>\n",
       "    </tr>\n",
       "    <tr>\n",
       "      <th>4</th>\n",
       "      <td>No Defect</td>\n",
       "      <td>No Defect</td>\n",
       "      <td>Defect</td>\n",
       "      <td>No Defect</td>\n",
       "    </tr>\n",
       "    <tr>\n",
       "      <th>...</th>\n",
       "      <td>...</td>\n",
       "      <td>...</td>\n",
       "      <td>...</td>\n",
       "      <td>...</td>\n",
       "    </tr>\n",
       "    <tr>\n",
       "      <th>195</th>\n",
       "      <td>No Defect</td>\n",
       "      <td>No Defect</td>\n",
       "      <td>Defect</td>\n",
       "      <td>Defect</td>\n",
       "    </tr>\n",
       "    <tr>\n",
       "      <th>196</th>\n",
       "      <td>Defect</td>\n",
       "      <td>Defect</td>\n",
       "      <td>No Defect</td>\n",
       "      <td>No Defect</td>\n",
       "    </tr>\n",
       "    <tr>\n",
       "      <th>197</th>\n",
       "      <td>No Defect</td>\n",
       "      <td>No Defect</td>\n",
       "      <td>No Defect</td>\n",
       "      <td>No Defect</td>\n",
       "    </tr>\n",
       "    <tr>\n",
       "      <th>198</th>\n",
       "      <td>No Defect</td>\n",
       "      <td>No Defect</td>\n",
       "      <td>Defect</td>\n",
       "      <td>Defect</td>\n",
       "    </tr>\n",
       "    <tr>\n",
       "      <th>199</th>\n",
       "      <td>No Defect</td>\n",
       "      <td>No Defect</td>\n",
       "      <td>No Defect</td>\n",
       "      <td>Defect</td>\n",
       "    </tr>\n",
       "  </tbody>\n",
       "</table>\n",
       "<p>200 rows × 4 columns</p>\n",
       "</div>"
      ],
      "text/plain": [
       "        actual     model1     model2     model3\n",
       "0    No Defect  No Defect     Defect  No Defect\n",
       "1    No Defect  No Defect     Defect     Defect\n",
       "2    No Defect  No Defect     Defect  No Defect\n",
       "3    No Defect     Defect     Defect     Defect\n",
       "4    No Defect  No Defect     Defect  No Defect\n",
       "..         ...        ...        ...        ...\n",
       "195  No Defect  No Defect     Defect     Defect\n",
       "196     Defect     Defect  No Defect  No Defect\n",
       "197  No Defect  No Defect  No Defect  No Defect\n",
       "198  No Defect  No Defect     Defect     Defect\n",
       "199  No Defect  No Defect  No Defect     Defect\n",
       "\n",
       "[200 rows x 4 columns]"
      ]
     },
     "execution_count": 7,
     "metadata": {},
     "output_type": "execute_result"
    }
   ],
   "source": [
    "c3 = pd.read_csv('c3.csv')\n",
    "c3"
   ]
  },
  {
   "cell_type": "markdown",
   "id": "b2462be1",
   "metadata": {},
   "source": [
    "An internal team wants to investigate the cause of the manufacturing defects. They tell you that they want to identify as many of the ducks that have a defect as possible. Which evaluation metric would be appropriate here? Which model would be the best fit for this use case?"
   ]
  },
  {
   "cell_type": "markdown",
   "id": "7b2943fc",
   "metadata": {},
   "source": [
    "### True Positive:  BROKEN DUCK\n",
    "### True Negative:  GOOD DUCK\n",
    "### False Positive:  Predict a broken duck and actually getting a good duck\n",
    "### False Negative:  Predict good duck and actually getting a bad duck\n",
    "\n",
    "### We want to catch as many of the broken ducks as possible so we would choose to maximize recall"
   ]
  },
  {
   "cell_type": "code",
   "execution_count": 24,
   "id": "3fe91f45",
   "metadata": {},
   "outputs": [
    {
     "name": "stdout",
     "output_type": "stream",
     "text": [
      "[[  8   8]\n",
      " [  2 182]]\n"
     ]
    }
   ],
   "source": [
    "print(confusion_matrix(c3.actual, c3.model1, labels = ('Defect', 'No Defect')))"
   ]
  },
  {
   "cell_type": "code",
   "execution_count": 25,
   "id": "f9b261a9",
   "metadata": {},
   "outputs": [
    {
     "name": "stdout",
     "output_type": "stream",
     "text": [
      "[[  9   7]\n",
      " [ 81 103]]\n"
     ]
    }
   ],
   "source": [
    "print(confusion_matrix(c3.actual, c3.model2, labels = ('Defect', 'No Defect')))"
   ]
  },
  {
   "cell_type": "code",
   "execution_count": 26,
   "id": "5e3bca4a",
   "metadata": {},
   "outputs": [
    {
     "name": "stdout",
     "output_type": "stream",
     "text": [
      "[[13  3]\n",
      " [86 98]]\n"
     ]
    }
   ],
   "source": [
    "print(confusion_matrix(c3.actual, c3.model3, labels = ('Defect', 'No Defect')))"
   ]
  },
  {
   "cell_type": "markdown",
   "id": "1986efa6",
   "metadata": {},
   "source": [
    "### We want to use the third model in order to maximize recall of $\\frac{13}{16}$ where the other two give $\\frac{1}{2}$ and $\\frac{9}{16}$ respectively"
   ]
  },
  {
   "cell_type": "markdown",
   "id": "455e2954",
   "metadata": {},
   "source": [
    "Recently several stories in the local news have come out highlighting customers who received a rubber duck with a defect, and portraying C3 in a bad light. The PR team has decided to launch a program that gives customers with a defective duck a vacation to Hawaii. They need you to predict which ducks will have defects, but tell you the really don't want to accidentally give out a vacation package when the duck really doesn't have a defect. Which evaluation metric would be appropriate here? Which model would be the best fit for this use case?"
   ]
  },
  {
   "cell_type": "code",
   "execution_count": null,
   "id": "19465f95",
   "metadata": {},
   "outputs": [],
   "source": []
  },
  {
   "cell_type": "code",
   "execution_count": null,
   "id": "0bc2bddf",
   "metadata": {},
   "outputs": [],
   "source": [
    "4.  You are working as a data scientist for Gives You Paws ™, a subscription based service that shows you cute pictures of dogs or cats (or both for an additional fee).\n",
    "At Gives You Paws, anyone can upload pictures of their cats or dogs. The photos are then put through a two step process. First an automated algorithm tags pictures as either a cat or a dog (Phase I). Next, the photos that have been initially identified are put through another round of review, possibly with some human oversight, before being presented to the users (Phase II).\n",
    "Several models have already been developed with the data, and you can find their results here.\n",
    "Given this dataset, use pandas to create a baseline model (i.e. a model that just predicts the most common class) and answer the following questions:"
   ]
  },
  {
   "cell_type": "code",
   "execution_count": null,
   "id": "1e187228",
   "metadata": {},
   "outputs": [],
   "source": [
    "a. In terms of accuracy, how do the various models compare to the baseline model? Are any of the models better than the baseline?  "
   ]
  },
  {
   "cell_type": "code",
   "execution_count": null,
   "id": "fe726efd",
   "metadata": {},
   "outputs": [],
   "source": [
    "b.  Suppose you are working on a team that solely deals with dog pictures. Which of these models would you recommend?"
   ]
  },
  {
   "cell_type": "code",
   "execution_count": null,
   "id": "d95ee127",
   "metadata": {},
   "outputs": [],
   "source": [
    "c.  Suppose you are working on a team that solely deals with cat pictures. Which of these models would you recommend?"
   ]
  },
  {
   "cell_type": "code",
   "execution_count": null,
   "id": "d3e367ce",
   "metadata": {},
   "outputs": [],
   "source": [
    "5.  Follow the links below to read the documentation about each function, then apply those functions to the data from the previous problem.\n",
    "sklearn.metrics.accuracy_score\n",
    "sklearn.metrics.precision_score\n",
    "sklearn.metrics.recall_score\n",
    "sklearn.metrics.classification_report"
   ]
  }
 ],
 "metadata": {
  "kernelspec": {
   "display_name": "Python 3 (ipykernel)",
   "language": "python",
   "name": "python3"
  },
  "language_info": {
   "codemirror_mode": {
    "name": "ipython",
    "version": 3
   },
   "file_extension": ".py",
   "mimetype": "text/x-python",
   "name": "python",
   "nbconvert_exporter": "python",
   "pygments_lexer": "ipython3",
   "version": "3.10.9"
  }
 },
 "nbformat": 4,
 "nbformat_minor": 5
}
