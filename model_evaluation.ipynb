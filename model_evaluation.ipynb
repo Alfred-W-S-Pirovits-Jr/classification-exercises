{
 "cells": [
  {
   "cell_type": "code",
   "execution_count": 10,
   "id": "ca44092f",
   "metadata": {},
   "outputs": [],
   "source": [
    "import pandas as pd\n",
    "from sklearn.metrics import confusion_matrix\n",
    "import sklearn.metrics"
   ]
  },
  {
   "cell_type": "markdown",
   "id": "1ff0d022",
   "metadata": {},
   "source": [
    "1.  Create a new file named model_evaluation.py or model_evaluation.ipynb for these exercises."
   ]
  },
  {
   "cell_type": "markdown",
   "id": "dc4d0bc2",
   "metadata": {},
   "source": [
    "2.  Given the following confusion matrix, evaluate (by hand) the model's performance.\n",
    "\n",
    "|               | pred dog   | pred cat   |\n",
    "|:------------  |-----------:|-----------:|\n",
    "| actual dog    |         46 |         7  |\n",
    "| actual cat    |         13 |         34 |"
   ]
  },
  {
   "cell_type": "markdown",
   "id": "74a30058",
   "metadata": {},
   "source": [
    "### Accuracy = $\\frac{TP + TN}{TP +TN +FP + FN}$ = $\\frac{46 + 34}{46 + 34 + 13 + 7}$ = $\\frac{4}{5}$ \n",
    "### Precision = $\\frac{TP}{TP + FP}$ = $\\frac{46}{46 + 13}$ = $\\frac{46}{59}$\n",
    "### Recall = $\\frac{TP}{TP + FN}$ = $\\frac{46}{46 + 7}$ = $\\frac{46}{55}$\n",
    "### F1 = $\\frac{1}{2*(\\frac{1}{Precision}+\\frac{1}{Recall})}$ = $\\frac{2 * Precision * Recall}{Precision + Recall}$ = $\\frac{2* \\frac{46}{59} * \\frac{46}{55}}{\\frac{46}{59} + \\frac{46}{55}}$  "
   ]
  },
  {
   "cell_type": "markdown",
   "id": "7ab71379",
   "metadata": {},
   "source": [
    "In the context of this problem, what is a false positive?"
   ]
  },
  {
   "cell_type": "markdown",
   "id": "5b4a79a1",
   "metadata": {},
   "source": [
    "### predicting dog for an actual cat"
   ]
  },
  {
   "cell_type": "markdown",
   "id": "a6df33be",
   "metadata": {},
   "source": [
    "In the context of this problem, what is a false negative?"
   ]
  },
  {
   "cell_type": "markdown",
   "id": "561d16f5",
   "metadata": {},
   "source": [
    "### predicting cat for an actual dog"
   ]
  },
  {
   "cell_type": "markdown",
   "id": "07fe82b7",
   "metadata": {},
   "source": [
    "How would you describe this model?"
   ]
  },
  {
   "cell_type": "markdown",
   "id": "8c23851b",
   "metadata": {},
   "source": [
    "Its accurate\n",
    "Its precise\n",
    "Its got good recal"
   ]
  },
  {
   "cell_type": "markdown",
   "id": "7169afbe",
   "metadata": {},
   "source": [
    "3.  You are working as a datascientist working for Codeup Cody Creator (C3 for short), a rubber-duck manufacturing plant.\n",
    "Unfortunately, some of the rubber ducks that are produced will have defects. Your team has built several models that try to predict those defects, and the data from their predictions can be found here.\n",
    "Use the predictions dataset and pandas to help answer the following questions:"
   ]
  },
  {
   "cell_type": "code",
   "execution_count": 2,
   "id": "8076e061",
   "metadata": {},
   "outputs": [
    {
     "data": {
      "text/html": [
       "<div>\n",
       "<style scoped>\n",
       "    .dataframe tbody tr th:only-of-type {\n",
       "        vertical-align: middle;\n",
       "    }\n",
       "\n",
       "    .dataframe tbody tr th {\n",
       "        vertical-align: top;\n",
       "    }\n",
       "\n",
       "    .dataframe thead th {\n",
       "        text-align: right;\n",
       "    }\n",
       "</style>\n",
       "<table border=\"1\" class=\"dataframe\">\n",
       "  <thead>\n",
       "    <tr style=\"text-align: right;\">\n",
       "      <th></th>\n",
       "      <th>actual</th>\n",
       "      <th>model1</th>\n",
       "      <th>model2</th>\n",
       "      <th>model3</th>\n",
       "    </tr>\n",
       "  </thead>\n",
       "  <tbody>\n",
       "    <tr>\n",
       "      <th>0</th>\n",
       "      <td>No Defect</td>\n",
       "      <td>No Defect</td>\n",
       "      <td>Defect</td>\n",
       "      <td>No Defect</td>\n",
       "    </tr>\n",
       "    <tr>\n",
       "      <th>1</th>\n",
       "      <td>No Defect</td>\n",
       "      <td>No Defect</td>\n",
       "      <td>Defect</td>\n",
       "      <td>Defect</td>\n",
       "    </tr>\n",
       "    <tr>\n",
       "      <th>2</th>\n",
       "      <td>No Defect</td>\n",
       "      <td>No Defect</td>\n",
       "      <td>Defect</td>\n",
       "      <td>No Defect</td>\n",
       "    </tr>\n",
       "    <tr>\n",
       "      <th>3</th>\n",
       "      <td>No Defect</td>\n",
       "      <td>Defect</td>\n",
       "      <td>Defect</td>\n",
       "      <td>Defect</td>\n",
       "    </tr>\n",
       "    <tr>\n",
       "      <th>4</th>\n",
       "      <td>No Defect</td>\n",
       "      <td>No Defect</td>\n",
       "      <td>Defect</td>\n",
       "      <td>No Defect</td>\n",
       "    </tr>\n",
       "    <tr>\n",
       "      <th>...</th>\n",
       "      <td>...</td>\n",
       "      <td>...</td>\n",
       "      <td>...</td>\n",
       "      <td>...</td>\n",
       "    </tr>\n",
       "    <tr>\n",
       "      <th>195</th>\n",
       "      <td>No Defect</td>\n",
       "      <td>No Defect</td>\n",
       "      <td>Defect</td>\n",
       "      <td>Defect</td>\n",
       "    </tr>\n",
       "    <tr>\n",
       "      <th>196</th>\n",
       "      <td>Defect</td>\n",
       "      <td>Defect</td>\n",
       "      <td>No Defect</td>\n",
       "      <td>No Defect</td>\n",
       "    </tr>\n",
       "    <tr>\n",
       "      <th>197</th>\n",
       "      <td>No Defect</td>\n",
       "      <td>No Defect</td>\n",
       "      <td>No Defect</td>\n",
       "      <td>No Defect</td>\n",
       "    </tr>\n",
       "    <tr>\n",
       "      <th>198</th>\n",
       "      <td>No Defect</td>\n",
       "      <td>No Defect</td>\n",
       "      <td>Defect</td>\n",
       "      <td>Defect</td>\n",
       "    </tr>\n",
       "    <tr>\n",
       "      <th>199</th>\n",
       "      <td>No Defect</td>\n",
       "      <td>No Defect</td>\n",
       "      <td>No Defect</td>\n",
       "      <td>Defect</td>\n",
       "    </tr>\n",
       "  </tbody>\n",
       "</table>\n",
       "<p>200 rows × 4 columns</p>\n",
       "</div>"
      ],
      "text/plain": [
       "        actual     model1     model2     model3\n",
       "0    No Defect  No Defect     Defect  No Defect\n",
       "1    No Defect  No Defect     Defect     Defect\n",
       "2    No Defect  No Defect     Defect  No Defect\n",
       "3    No Defect     Defect     Defect     Defect\n",
       "4    No Defect  No Defect     Defect  No Defect\n",
       "..         ...        ...        ...        ...\n",
       "195  No Defect  No Defect     Defect     Defect\n",
       "196     Defect     Defect  No Defect  No Defect\n",
       "197  No Defect  No Defect  No Defect  No Defect\n",
       "198  No Defect  No Defect     Defect     Defect\n",
       "199  No Defect  No Defect  No Defect     Defect\n",
       "\n",
       "[200 rows x 4 columns]"
      ]
     },
     "execution_count": 2,
     "metadata": {},
     "output_type": "execute_result"
    }
   ],
   "source": [
    "c3 = pd.read_csv('c3.csv')\n",
    "c3"
   ]
  },
  {
   "cell_type": "markdown",
   "id": "fbbf1931",
   "metadata": {},
   "source": [
    "An internal team wants to investigate the cause of the manufacturing defects. They tell you that they want to identify as many of the ducks that have a defect as possible. Which evaluation metric would be appropriate here? Which model would be the best fit for this use case?"
   ]
  },
  {
   "cell_type": "markdown",
   "id": "d1c281ad",
   "metadata": {},
   "source": [
    "### True Positive:  BROKEN DUCK\n",
    "### True Negative:  GOOD DUCK\n",
    "### False Positive:  Predict a broken duck and actually getting a good duck\n",
    "### False Negative:  Predict good duck and actually getting a bad duck\n",
    "\n",
    "### We want to catch as many of the broken ducks as possible so we would choose to maximize recall"
   ]
  },
  {
   "cell_type": "code",
   "execution_count": 3,
   "id": "c4b7152c",
   "metadata": {},
   "outputs": [
    {
     "name": "stdout",
     "output_type": "stream",
     "text": [
      "[[  8   8]\n",
      " [  2 182]]\n"
     ]
    }
   ],
   "source": [
    "print(confusion_matrix(c3.actual, c3.model1, labels = ('Defect', 'No Defect')))"
   ]
  },
  {
   "cell_type": "code",
   "execution_count": 4,
   "id": "ba5421a7",
   "metadata": {},
   "outputs": [
    {
     "name": "stdout",
     "output_type": "stream",
     "text": [
      "[[  9   7]\n",
      " [ 81 103]]\n"
     ]
    }
   ],
   "source": [
    "print(confusion_matrix(c3.actual, c3.model2, labels = ('Defect', 'No Defect')))"
   ]
  },
  {
   "cell_type": "code",
   "execution_count": 5,
   "id": "58f85269",
   "metadata": {},
   "outputs": [
    {
     "name": "stdout",
     "output_type": "stream",
     "text": [
      "[[13  3]\n",
      " [86 98]]\n"
     ]
    }
   ],
   "source": [
    "print(confusion_matrix(c3.actual, c3.model3, labels = ('Defect', 'No Defect')))"
   ]
  },
  {
   "cell_type": "markdown",
   "id": "e9820057",
   "metadata": {},
   "source": [
    "### We want to use the third model in order to maximize recall of $\\frac{13}{16}$ where the other two give $\\frac{1}{2}$ and $\\frac{9}{16}$ respectively"
   ]
  },
  {
   "cell_type": "markdown",
   "id": "f967f6c3",
   "metadata": {},
   "source": [
    "Recently several stories in the local news have come out highlighting customers who received a rubber duck with a defect, and portraying C3 in a bad light. The PR team has decided to launch a program that gives customers with a defective duck a vacation to Hawaii. They need you to predict which ducks will have defects, but tell you the really don't want to accidentally give out a vacation package when the duck really doesn't have a defect. Which evaluation metric would be appropriate here? Which model would be the best fit for this use case?"
   ]
  },
  {
   "cell_type": "markdown",
   "id": "9e0d4a52",
   "metadata": {},
   "source": [
    "Under the key wording of the question you are trying to minimize false positives i.e going by the keywords they need you to predict which have defects but...doesn't have a defect.  The phrasing of this question is in direct to the part you dont want to accidentally give out a vacation package?  If you want to minimize vacation packages given out accidental and otherwise this is a conditional probability exercise.  You would rely on recall and throw out all predicted negatives so by anything approaching logic or real world you would still use recall and the last model. Throwing out 99 ducks predicted as defective...86 of them still good is still cheaper than one extra vacation package.  "
   ]
  },
  {
   "cell_type": "markdown",
   "id": "cea3be14",
   "metadata": {},
   "source": [
    "4.  You are working as a data scientist for Gives You Paws ™, a subscription based service that shows you cute pictures of dogs or cats (or both for an additional fee).\n",
    "At Gives You Paws, anyone can upload pictures of their cats or dogs. The photos are then put through a two step process. First an automated algorithm tags pictures as either a cat or a dog (Phase I). Next, the photos that have been initially identified are put through another round of review, possibly with some human oversight, before being presented to the users (Phase II).\n",
    "Several models have already been developed with the data, and you can find their results here.\n",
    "Given this dataset, use pandas to create a baseline model (i.e. a model that just predicts the most common class) and answer the following questions:"
   ]
  },
  {
   "cell_type": "code",
   "execution_count": 55,
   "id": "01144394",
   "metadata": {},
   "outputs": [
    {
     "data": {
      "text/html": [
       "<div>\n",
       "<style scoped>\n",
       "    .dataframe tbody tr th:only-of-type {\n",
       "        vertical-align: middle;\n",
       "    }\n",
       "\n",
       "    .dataframe tbody tr th {\n",
       "        vertical-align: top;\n",
       "    }\n",
       "\n",
       "    .dataframe thead th {\n",
       "        text-align: right;\n",
       "    }\n",
       "</style>\n",
       "<table border=\"1\" class=\"dataframe\">\n",
       "  <thead>\n",
       "    <tr style=\"text-align: right;\">\n",
       "      <th></th>\n",
       "      <th>actual</th>\n",
       "      <th>model1</th>\n",
       "      <th>model2</th>\n",
       "      <th>model3</th>\n",
       "      <th>model4</th>\n",
       "    </tr>\n",
       "  </thead>\n",
       "  <tbody>\n",
       "    <tr>\n",
       "      <th>0</th>\n",
       "      <td>cat</td>\n",
       "      <td>cat</td>\n",
       "      <td>dog</td>\n",
       "      <td>cat</td>\n",
       "      <td>dog</td>\n",
       "    </tr>\n",
       "    <tr>\n",
       "      <th>1</th>\n",
       "      <td>dog</td>\n",
       "      <td>dog</td>\n",
       "      <td>cat</td>\n",
       "      <td>cat</td>\n",
       "      <td>dog</td>\n",
       "    </tr>\n",
       "    <tr>\n",
       "      <th>2</th>\n",
       "      <td>dog</td>\n",
       "      <td>cat</td>\n",
       "      <td>cat</td>\n",
       "      <td>cat</td>\n",
       "      <td>dog</td>\n",
       "    </tr>\n",
       "    <tr>\n",
       "      <th>3</th>\n",
       "      <td>dog</td>\n",
       "      <td>dog</td>\n",
       "      <td>dog</td>\n",
       "      <td>cat</td>\n",
       "      <td>dog</td>\n",
       "    </tr>\n",
       "    <tr>\n",
       "      <th>4</th>\n",
       "      <td>cat</td>\n",
       "      <td>cat</td>\n",
       "      <td>cat</td>\n",
       "      <td>dog</td>\n",
       "      <td>dog</td>\n",
       "    </tr>\n",
       "    <tr>\n",
       "      <th>...</th>\n",
       "      <td>...</td>\n",
       "      <td>...</td>\n",
       "      <td>...</td>\n",
       "      <td>...</td>\n",
       "      <td>...</td>\n",
       "    </tr>\n",
       "    <tr>\n",
       "      <th>4995</th>\n",
       "      <td>dog</td>\n",
       "      <td>dog</td>\n",
       "      <td>dog</td>\n",
       "      <td>dog</td>\n",
       "      <td>dog</td>\n",
       "    </tr>\n",
       "    <tr>\n",
       "      <th>4996</th>\n",
       "      <td>dog</td>\n",
       "      <td>dog</td>\n",
       "      <td>cat</td>\n",
       "      <td>cat</td>\n",
       "      <td>dog</td>\n",
       "    </tr>\n",
       "    <tr>\n",
       "      <th>4997</th>\n",
       "      <td>dog</td>\n",
       "      <td>cat</td>\n",
       "      <td>cat</td>\n",
       "      <td>dog</td>\n",
       "      <td>dog</td>\n",
       "    </tr>\n",
       "    <tr>\n",
       "      <th>4998</th>\n",
       "      <td>cat</td>\n",
       "      <td>cat</td>\n",
       "      <td>cat</td>\n",
       "      <td>cat</td>\n",
       "      <td>dog</td>\n",
       "    </tr>\n",
       "    <tr>\n",
       "      <th>4999</th>\n",
       "      <td>dog</td>\n",
       "      <td>dog</td>\n",
       "      <td>dog</td>\n",
       "      <td>dog</td>\n",
       "      <td>dog</td>\n",
       "    </tr>\n",
       "  </tbody>\n",
       "</table>\n",
       "<p>5000 rows × 5 columns</p>\n",
       "</div>"
      ],
      "text/plain": [
       "     actual model1 model2 model3 model4\n",
       "0       cat    cat    dog    cat    dog\n",
       "1       dog    dog    cat    cat    dog\n",
       "2       dog    cat    cat    cat    dog\n",
       "3       dog    dog    dog    cat    dog\n",
       "4       cat    cat    cat    dog    dog\n",
       "...     ...    ...    ...    ...    ...\n",
       "4995    dog    dog    dog    dog    dog\n",
       "4996    dog    dog    cat    cat    dog\n",
       "4997    dog    cat    cat    dog    dog\n",
       "4998    cat    cat    cat    cat    dog\n",
       "4999    dog    dog    dog    dog    dog\n",
       "\n",
       "[5000 rows x 5 columns]"
      ]
     },
     "execution_count": 55,
     "metadata": {},
     "output_type": "execute_result"
    }
   ],
   "source": [
    "gives_you_paws = pd.read_csv('gives_you_paws.csv')\n",
    "gives_you_paws"
   ]
  },
  {
   "cell_type": "markdown",
   "id": "e5594c9a",
   "metadata": {},
   "source": [
    "a. In terms of accuracy, how do the various models compare to the baseline model? Are any of the models better than the baseline?  "
   ]
  },
  {
   "cell_type": "code",
   "execution_count": 28,
   "id": "4cb47e05",
   "metadata": {},
   "outputs": [
    {
     "data": {
      "text/plain": [
       "dog    3254\n",
       "cat    1746\n",
       "Name: actual, dtype: int64"
      ]
     },
     "execution_count": 28,
     "metadata": {},
     "output_type": "execute_result"
    }
   ],
   "source": [
    "gives_you_paws.actual.value_counts()"
   ]
  },
  {
   "cell_type": "code",
   "execution_count": 24,
   "id": "021e49d9",
   "metadata": {},
   "outputs": [
    {
     "data": {
      "text/plain": [
       "0.6508"
      ]
     },
     "execution_count": 24,
     "metadata": {},
     "output_type": "execute_result"
    }
   ],
   "source": [
    "3254/(3254+1746)"
   ]
  },
  {
   "cell_type": "code",
   "execution_count": 25,
   "id": "a9ddcbc5",
   "metadata": {},
   "outputs": [
    {
     "ename": "TypeError",
     "evalue": "'str' object does not support item assignment",
     "output_type": "error",
     "traceback": [
      "\u001b[0;31m---------------------------------------------------------------------------\u001b[0m",
      "\u001b[0;31mTypeError\u001b[0m                                 Traceback (most recent call last)",
      "Cell \u001b[0;32mIn[25], line 1\u001b[0m\n\u001b[0;32m----> 1\u001b[0m gives_you_paws \u001b[38;5;241m=\u001b[39m gives_you_paws[\u001b[38;5;124m'\u001b[39m\u001b[38;5;124mbaseline_prediction\u001b[39m\u001b[38;5;124m'\u001b[39m] \u001b[38;5;241m=\u001b[39m \u001b[38;5;124m'\u001b[39m\u001b[38;5;124mdog\u001b[39m\u001b[38;5;124m'\u001b[39m\n",
      "\u001b[0;31mTypeError\u001b[0m: 'str' object does not support item assignment"
     ]
    }
   ],
   "source": [
    "gives_you_paws = gives_you_paws['baseline_prediction'] = 'dog'"
   ]
  },
  {
   "cell_type": "code",
   "execution_count": 29,
   "id": "ef41f3fa",
   "metadata": {},
   "outputs": [
    {
     "name": "stdout",
     "output_type": "stream",
     "text": [
      "[[2614  640]\n",
      " [ 323 1423]]\n"
     ]
    }
   ],
   "source": [
    "print(confusion_matrix(gives_you_paws.actual, gives_you_paws.model1, labels = ('dog', 'cat')))"
   ]
  },
  {
   "cell_type": "markdown",
   "id": "75caa25d",
   "metadata": {},
   "source": [
    "This model gives an accuracy of $\\frac{4037}{5000}$=.8074 which is very good and the best based on accuracy alone."
   ]
  },
  {
   "cell_type": "code",
   "execution_count": 30,
   "id": "2e28136f",
   "metadata": {},
   "outputs": [
    {
     "name": "stdout",
     "output_type": "stream",
     "text": [
      "[[1597 1657]\n",
      " [ 191 1555]]\n"
     ]
    }
   ],
   "source": [
    "print(confusion_matrix(gives_you_paws.actual, gives_you_paws.model2, labels = ('dog', 'cat')))"
   ]
  },
  {
   "cell_type": "markdown",
   "id": "eed918fc",
   "metadata": {},
   "source": [
    "This model gives an accuracy of $\\frac{3152}{5000}$=.6304 which is below the baseline."
   ]
  },
  {
   "cell_type": "code",
   "execution_count": 31,
   "id": "7d01254d",
   "metadata": {},
   "outputs": [
    {
     "name": "stdout",
     "output_type": "stream",
     "text": [
      "[[1655 1599]\n",
      " [ 853  893]]\n"
     ]
    }
   ],
   "source": [
    "print(confusion_matrix(gives_you_paws.actual, gives_you_paws.model3, labels = ('dog', 'cat')))"
   ]
  },
  {
   "cell_type": "markdown",
   "id": "f4fcd2a3",
   "metadata": {},
   "source": [
    "This model gives an accuracy of $\\frac{2548}{5000}$=.5096 which is significantly below the baseline.\n"
   ]
  },
  {
   "cell_type": "code",
   "execution_count": 32,
   "id": "5cd2e6cd",
   "metadata": {},
   "outputs": [
    {
     "name": "stdout",
     "output_type": "stream",
     "text": [
      "[[3110  144]\n",
      " [1143  603]]\n"
     ]
    }
   ],
   "source": [
    "print(confusion_matrix(gives_you_paws.actual, gives_you_paws.model4, labels = ('dog', 'cat')))"
   ]
  },
  {
   "cell_type": "markdown",
   "id": "c3023a52",
   "metadata": {},
   "source": [
    "This last model gives an accuracy above the baseline with $\\frac{3713}{5000}$ =.7426 "
   ]
  },
  {
   "cell_type": "markdown",
   "id": "45eca21b",
   "metadata": {},
   "source": [
    "b.  Suppose you are working on a team that solely deals with dog pictures. Which of these models would you recommend?"
   ]
  },
  {
   "cell_type": "markdown",
   "id": "666b21cf",
   "metadata": {},
   "source": [
    "Model 4 since it gives the best recall of $\\frac{3110}{3254}$=.9557467732022127"
   ]
  },
  {
   "cell_type": "markdown",
   "id": "be3e08c9",
   "metadata": {},
   "source": [
    "c.  Suppose you are working on a team that solely deals with cat pictures. Which of these models would you recommend?"
   ]
  },
  {
   "cell_type": "markdown",
   "id": "69921ef4",
   "metadata": {},
   "source": [
    "I would want model 2 as it gives the best specificity of $\\frac{1555}{1746}$=.8906071019473081"
   ]
  },
  {
   "cell_type": "markdown",
   "id": "2ece3dd6",
   "metadata": {},
   "source": [
    "5.  Follow the links below to read the documentation about each function, then apply those functions to the data from the previous problem.\n",
    "sklearn.metrics.accuracy_score\n",
    "sklearn.metrics.precision_score\n",
    "sklearn.metrics.recall_score\n",
    "sklearn.metrics.classification_report"
   ]
  },
  {
   "cell_type": "code",
   "execution_count": 42,
   "id": "0437d200",
   "metadata": {},
   "outputs": [
    {
     "name": "stdout",
     "output_type": "stream",
     "text": [
      "accuracy = 0.8074\n",
      "precision = 0.8900238338440586\n",
      "recall = 0.803318992009834\n"
     ]
    }
   ],
   "source": [
    "print(f'accuracy = {sklearn.metrics.accuracy_score(gives_you_paws.actual, gives_you_paws.model1)}')\n",
    "print(f'precision = {sklearn.metrics.precision_score(gives_you_paws.actual, gives_you_paws.model1, pos_label=\"dog\")}')\n",
    "print(f'recall = {sklearn.metrics.recall_score(gives_you_paws.actual, gives_you_paws.model1, pos_label=\"dog\")}')"
   ]
  },
  {
   "cell_type": "code",
   "execution_count": 49,
   "id": "1a7f581c",
   "metadata": {},
   "outputs": [
    {
     "name": "stdout",
     "output_type": "stream",
     "text": [
      "              precision    recall  f1-score   support\n",
      "\n",
      "         cat       0.69      0.82      0.75      1746\n",
      "         dog       0.89      0.80      0.84      3254\n",
      "\n",
      "    accuracy                           0.81      5000\n",
      "   macro avg       0.79      0.81      0.80      5000\n",
      "weighted avg       0.82      0.81      0.81      5000\n",
      "\n"
     ]
    }
   ],
   "source": [
    "print(f'{sklearn.metrics.classification_report(gives_you_paws.actual, gives_you_paws.model1)}')"
   ]
  },
  {
   "cell_type": "code",
   "execution_count": 44,
   "id": "9e2e281f",
   "metadata": {},
   "outputs": [
    {
     "name": "stdout",
     "output_type": "stream",
     "text": [
      "accuracy = 0.6304\n",
      "precision = 0.8931767337807607\n",
      "recall = 0.49078057775046097\n"
     ]
    }
   ],
   "source": [
    "print(f'accuracy = {sklearn.metrics.accuracy_score(gives_you_paws.actual, gives_you_paws.model2)}')\n",
    "print(f'precision = {sklearn.metrics.precision_score(gives_you_paws.actual, gives_you_paws.model2, pos_label=\"dog\")}')\n",
    "print(f'recall = {sklearn.metrics.recall_score(gives_you_paws.actual, gives_you_paws.model2, pos_label=\"dog\")}')"
   ]
  },
  {
   "cell_type": "code",
   "execution_count": 50,
   "id": "3373f4a7",
   "metadata": {},
   "outputs": [
    {
     "name": "stdout",
     "output_type": "stream",
     "text": [
      "              precision    recall  f1-score   support\n",
      "\n",
      "         cat       0.48      0.89      0.63      1746\n",
      "         dog       0.89      0.49      0.63      3254\n",
      "\n",
      "    accuracy                           0.63      5000\n",
      "   macro avg       0.69      0.69      0.63      5000\n",
      "weighted avg       0.75      0.63      0.63      5000\n",
      "\n"
     ]
    }
   ],
   "source": [
    "print(f'{sklearn.metrics.classification_report(gives_you_paws.actual, gives_you_paws.model2)}')"
   ]
  },
  {
   "cell_type": "code",
   "execution_count": 45,
   "id": "a4f88d6b",
   "metadata": {},
   "outputs": [
    {
     "name": "stdout",
     "output_type": "stream",
     "text": [
      "accuracy = 0.5096\n",
      "precision = 0.6598883572567783\n",
      "recall = 0.5086047940995697\n"
     ]
    }
   ],
   "source": [
    "print(f'accuracy = {sklearn.metrics.accuracy_score(gives_you_paws.actual, gives_you_paws.model3)}')\n",
    "print(f'precision = {sklearn.metrics.precision_score(gives_you_paws.actual, gives_you_paws.model3, pos_label=\"dog\")}')\n",
    "print(f'recall = {sklearn.metrics.recall_score(gives_you_paws.actual, gives_you_paws.model3, pos_label=\"dog\")}')"
   ]
  },
  {
   "cell_type": "code",
   "execution_count": 52,
   "id": "d6016707",
   "metadata": {},
   "outputs": [
    {
     "name": "stdout",
     "output_type": "stream",
     "text": [
      "              precision    recall  f1-score   support\n",
      "\n",
      "         cat       0.36      0.51      0.42      1746\n",
      "         dog       0.66      0.51      0.57      3254\n",
      "\n",
      "    accuracy                           0.51      5000\n",
      "   macro avg       0.51      0.51      0.50      5000\n",
      "weighted avg       0.55      0.51      0.52      5000\n",
      "\n"
     ]
    }
   ],
   "source": [
    "print(f'{sklearn.metrics.classification_report(gives_you_paws.actual, gives_you_paws.model3)}')"
   ]
  },
  {
   "cell_type": "code",
   "execution_count": 46,
   "id": "1269ad6a",
   "metadata": {},
   "outputs": [
    {
     "name": "stdout",
     "output_type": "stream",
     "text": [
      "accuracy = 0.7426\n",
      "precision = 0.7312485304490948\n",
      "recall = 0.9557467732022127\n"
     ]
    }
   ],
   "source": [
    "print(f'accuracy = {sklearn.metrics.accuracy_score(gives_you_paws.actual, gives_you_paws.model)}')\n",
    "print(f'precision = {sklearn.metrics.precision_score(gives_you_paws.actual, gives_you_paws.model4, pos_label=\"dog\")}')\n",
    "print(f'recall = {sklearn.metrics.recall_score(gives_you_paws.actual, gives_you_paws.model4, pos_label=\"dog\")}')"
   ]
  },
  {
   "cell_type": "code",
   "execution_count": 51,
   "id": "aa7858be",
   "metadata": {},
   "outputs": [
    {
     "name": "stdout",
     "output_type": "stream",
     "text": [
      "              precision    recall  f1-score   support\n",
      "\n",
      "         cat       0.81      0.35      0.48      1746\n",
      "         dog       0.73      0.96      0.83      3254\n",
      "\n",
      "    accuracy                           0.74      5000\n",
      "   macro avg       0.77      0.65      0.66      5000\n",
      "weighted avg       0.76      0.74      0.71      5000\n",
      "\n"
     ]
    }
   ],
   "source": [
    "print(f'{sklearn.metrics.classification_report(gives_you_paws.actual, gives_you_paws.model4)}')"
   ]
  },
  {
   "cell_type": "code",
   "execution_count": null,
   "id": "568dbaea",
   "metadata": {},
   "outputs": [],
   "source": []
  }
 ],
 "metadata": {
  "kernelspec": {
   "display_name": "Python 3 (ipykernel)",
   "language": "python",
   "name": "python3"
  },
  "language_info": {
   "codemirror_mode": {
    "name": "ipython",
    "version": 3
   },
   "file_extension": ".py",
   "mimetype": "text/x-python",
   "name": "python",
   "nbconvert_exporter": "python",
   "pygments_lexer": "ipython3",
   "version": "3.10.9"
  }
 },
 "nbformat": 4,
 "nbformat_minor": 5
}
